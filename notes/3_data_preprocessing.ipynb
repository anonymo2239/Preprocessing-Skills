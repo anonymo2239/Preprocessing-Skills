{
 "cells": [
  {
   "cell_type": "markdown",
   "id": "35bb65cb",
   "metadata": {},
   "source": [
    "## Preprocessing"
   ]
  },
  {
   "cell_type": "markdown",
   "id": "03d90f09",
   "metadata": {},
   "source": [
    "Veri ön işleme pipeline’ını oluştururken scikit-learn’in Pipeline, BaseEstimator ve TransformerMixin sınıflarını kullanmamızın temel nedeni, kodun modüler, yeniden kullanılabilir ve genişletilebilir hale gelmesini sağlamaktır. scikit-learn pipeline yapısı, veriye uygulanacak işlemleri sıralı bir zincir gibi tanımlamamıza olanak tanır. Eğer scikit-learn pipeline yapısını, BaseEstimator ve TransformerMixin sınıflarını ya da config.yaml dosyasını kullanmazsak, ön işleme süreci hem daha karmaşık hem de hataya açık hale gelir.\n",
    "\n",
    "Öncelikle, scikit-learn pipeline kullanmazsak her işlem adımını (eksik değer doldurma, kodlama, ölçekleme vs.) tek tek manuel olarak çağırmamız gerekir. Bu hem kod tekrarına yol açar hem de eğitim ve test verisine aynı işlemleri uygularken hata yapma riskini artırır. Ayrıca modelleme aşamasında bu dönüşümler Pipeline içinde olmadığı için GridSearchCV gibi araçlarla birlikte düzgün çalışmaz.\n",
    "\n",
    "Eğer BaseEstimator ve TransformerMixin kullanmazsak, kendi yazdığımız sınıflar scikit-learn ile uyumlu hale gelmez. Yani fit, transform, fit_transform gibi metodlar düzgün çalışmaz ve bu sınıfları pipeline içine dahil edemeyiz. Böylece tüm süreci otomatikleştirmek ve test etmek zorlaşır.\n",
    "\n",
    "Son olarak config.yaml dosyasını kullanmazsak, hangi kolona hangi işlem yapılacağını kodun içine sabitlemek zorunda kalırız. Bu da kodun esnekliğini bozar. Her veri seti değiştiğinde kodu da değiştirmek gerekir, bu da bakım maliyetini ve hata riskini artırır."
   ]
  },
  {
   "cell_type": "markdown",
   "id": "efb568d2",
   "metadata": {},
   "source": [
    "---\n",
    "\n",
    "Pydantic kullanımının temel nedeni veri güvenliği ve tip kontrolü sağlamasıdır. Python'un dinamik yapısında çalışma zamanında tip hatalarını yakalar ve anlamlı hata mesajları verir. Bu sayede geçersiz veri girişlerini erken aşamada engeller.\n",
    "Kod kalitesi açısından büyük avantaj sağlar. Kodun daha okunabilir ve sürdürülebilir olmasını sağlar, IDE'lerde autocomplete desteği verir ve tip hatalarını geliştirme aşamasında tespit eder.\n",
    "Pratik kullanım alanlarında JSON, YAML gibi formatlardan Python objelerine güvenli dönüşüm yapar. API geliştirmede request/response validasyonu sağlar, konfigürasyon dosyalarını tip-güvenli şekilde okur ve otomatik dökümantasyon üretir."
   ]
  },
  {
   "cell_type": "markdown",
   "id": "0f6728ce",
   "metadata": {},
   "source": []
  }
 ],
 "metadata": {
  "language_info": {
   "name": "python"
  }
 },
 "nbformat": 4,
 "nbformat_minor": 5
}
