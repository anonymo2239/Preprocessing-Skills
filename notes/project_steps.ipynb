{
 "cells": [
  {
   "cell_type": "markdown",
   "id": "bb07ffd0",
   "metadata": {},
   "source": []
  }
 ],
 "metadata": {
  "language_info": {
   "name": "python"
  }
 },
 "nbformat": 4,
 "nbformat_minor": 5
}
