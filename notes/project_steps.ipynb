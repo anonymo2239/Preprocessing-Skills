{
 "cells": [
  {
   "cell_type": "markdown",
   "id": "bb07ffd0",
   "metadata": {},
   "source": [
    "1) Kullanıcı bize verisetini verecek.\n",
    "2) Bunu okuyacağız.\n",
    "3) Preprocessing yapacağız.\n",
    "4) Model kuracağız.\n",
    "5) Modeli train edeceğiz.\n",
    "6) Modeli deploy edeceğiz.\n",
    "7) API kullanacağız.\n",
    "8) Docker ile uzak sunucuya göndereceğiz."
   ]
  },
  {
   "cell_type": "markdown",
   "id": "2785939a",
   "metadata": {},
   "source": []
  }
 ],
 "metadata": {
  "language_info": {
   "name": "python"
  }
 },
 "nbformat": 4,
 "nbformat_minor": 5
}
