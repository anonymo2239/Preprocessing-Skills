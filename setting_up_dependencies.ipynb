{
 "cells": [
  {
   "cell_type": "markdown",
   "id": "f12d621e-6adc-4197-889b-c95c3bcb82d2",
   "metadata": {},
   "source": [
    "# Notes"
   ]
  },
  {
   "cell_type": "markdown",
   "id": "1aa64d76-90ab-43fb-9b68-8cd1cf651bdc",
   "metadata": {},
   "source": [
    "* Streamlit ile bir uygulamayı localde çalıştırmak, modelin deploy edildiği anlamına gelmez.\n",
    "Modelin gerçekten deploy edilmiş sayılması için, bir sunucuda 7/24 aktif şekilde çalışıyor olması ve bu sunucuya gelen istekleri (request) işleyip yanıt (response) verebilmesi gerekir."
   ]
  },
  {
   "cell_type": "markdown",
   "id": "c83c774d-0930-4c1e-b3b6-21dd86307662",
   "metadata": {},
   "source": [
    "* Normalde doğrudan main branch'e push atılmaz. Bunun için main branch'i readonly yapabileceğimiz bir ruleset tanımlayabiliriz."
   ]
  },
  {
   "cell_type": "markdown",
   "id": "0054928b-31c1-4616-9994-538e1fecf29c",
   "metadata": {},
   "source": [
    "* Projeyi açtıktan sonra, öncelikle projenin ihtiyaç duyduğu tüm kütüphane ve paketlerin doğru şekilde yönetilebilmesi için bir dependency management (bağımlılık yönetimi) sistemi kurmamız gerekir.\n",
    "Bu, projenin hangi kütüphanelere hangi sürümlerde ihtiyaç duyduğunu belirlemek ve bu ortamı izole bir şekilde oluşturmak anlamına gelir."
   ]
  },
  {
   "cell_type": "markdown",
   "id": "7579b59f-5a41-4ea5-ba16-f8ae85645a52",
   "metadata": {},
   "source": [
    "### 🔧 `pip` vs `poetry` vs `uv`\n",
    "\n",
    "Bu üç araç da Python projelerinde paket ve bağımlılık yönetimi için kullanılır, ancak farklı yaklaşımları ve yetenekleri vardır:\n",
    "\n",
    "---\n",
    "\n",
    "### 🧩 `pip` (Python Package Installer)\n",
    "\n",
    "* **Ne işe yarar?**\n",
    "  Python’un resmi paket yöneticisidir. `PyPI` üzerindeki paketleri indirip yükler.\n",
    "\n",
    "* **Özellikleri:**\n",
    "\n",
    "  * En temel araçtır, her Python dağıtımında gelir.\n",
    "  * `requirements.txt` ile çalışır.\n",
    "  * Sadece paketleri kurar, sanal ortam yönetimi içermez.\n",
    "  * Bağımlılık çözümlemesi sınırlıdır (çatışmaları düzgün çözemez).\n",
    "\n",
    "* **Kullanım örneği:**\n",
    "\n",
    "  ```bash\n",
    "  pip install requests\n",
    "  ```\n",
    "\n",
    "---\n",
    "\n",
    "### 📦 `poetry`\n",
    "\n",
    "* **Ne işe yarar?**\n",
    "  Hem paket kurulumu hem de proje yönetimi (versiyon, bağımlılık çözümü, yayınlama) yapar.\n",
    "\n",
    "* **Özellikleri:**\n",
    "\n",
    "  * `pyproject.toml` dosyası ile çalışır.\n",
    "  * Sanal ortam oluşturur ve yönetir.\n",
    "  * Bağımlılık çözümlemesi çok daha iyidir (`lock` dosyası üretir).\n",
    "  * Proje versiyonlama ve yayınlama için de kullanılır.\n",
    "\n",
    "* **Kullanım örneği:**\n",
    "\n",
    "  ```bash\n",
    "  poetry init\n",
    "  poetry add numpy\n",
    "  poetry install\n",
    "  ```\n",
    "\n",
    "---\n",
    "\n",
    "### ⚡️ `uv` (Ultrafast Python Package Manager)\n",
    "\n",
    "* **Ne işe yarar?**\n",
    "  `pip` ve `poetry` gibi araçların yaptığı işleri **çok daha hızlı** yapmayı amaçlayan yeni nesil bir araçtır.\n",
    "\n",
    "* **Özellikleri:**\n",
    "\n",
    "  * `Rust` ile yazılmıştır → çok hızlıdır.\n",
    "  * `pip`, `venv`, `poetry` ile uyumludur.\n",
    "  * `requirements.txt` veya `pyproject.toml` fark etmeden çalışabilir.\n",
    "  * Hem kurulum hem bağımlılık çözümlemesini yapar.\n",
    "\n",
    "* **Kullanım örneği:**\n",
    "\n",
    "  ```bash\n",
    "  uv pip install pandas\n",
    "  uv init my_project\n",
    "  uv venv\n",
    "  ```\n",
    "\n",
    "---"
   ]
  },
  {
   "cell_type": "markdown",
   "id": "678e5928-fd75-4c98-95ed-90c97a28f742",
   "metadata": {},
   "source": [
    " "
   ]
  },
  {
   "cell_type": "markdown",
   "id": "21280912-90db-4891-b0f0-63a5320d8183",
   "metadata": {},
   "source": [
    "Biz bu projede uv kuracağız. Bundan önce Rust kuruyoruz ki uv yi kurabilelim. Ardından gerekli dizine gelip Shell'de bunu çalıştırıyoruz:\n",
    "\n",
    "**uv init claims_ml**"
   ]
  },
  {
   "cell_type": "markdown",
   "id": "a973a598-1cc1-412d-895b-0fad3560b08e",
   "metadata": {},
   "source": [
    "Sonrasında"
   ]
  },
  {
   "cell_type": "markdown",
   "id": "1c8cc2a9-4224-4d7c-86bd-5b6bed7ea38a",
   "metadata": {},
   "source": [
    "**uv add numpy pandas**"
   ]
  },
  {
   "cell_type": "markdown",
   "id": "624a70af-8303-4d72-b1c7-354c2123daca",
   "metadata": {},
   "source": [
    "Komut şu işlemleri yaptı:\n",
    "\n",
    "* Proje dizininde `.venv` adlı sanal ortam oluşturuldu.\n",
    "* `numpy` ve `pandas` kütüphaneleri yüklendi.\n",
    "* Bu kütüphanelerin ihtiyaç duyduğu `python-dateutil`, `pytz`, `tzdata`, `six` gibi bağımlılıklar da otomatik olarak kuruldu.\n",
    "\n",
    "Artık bu sanal ortamda `numpy` ve `pandas` hazır durumda. Ortamı aktive etmek için:\n",
    "\n",
    "```\n",
    ".venv\\Scripts\\activate\n",
    "```\n",
    "\n",
    "komutunu kullanabilirsin.\n"
   ]
  },
  {
   "cell_type": "markdown",
   "id": "c07a2214-a50f-49c2-9326-fcaf51b22c44",
   "metadata": {},
   "source": [
    "Wheel dosyaları (`.whl`), Python paketlerinin **önceden derlenmiş (binary)** formatta dağıtılmış halidir.\n",
    "\n",
    "---\n",
    "\n",
    "### Ne işe yarar?\n",
    "\n",
    "* `.whl` uzantılı bu dosyalar, bir Python paketini kaynak koddan derlemek yerine **doğrudan hızlıca yüklemeye** yarar.\n",
    "* Bu sayede `pip` gibi araçlar, örneğin `numpy` gibi derlemesi uzun süren paketleri saniyeler içinde kurabilir.\n",
    "\n",
    "---\n",
    "\n",
    "### Neden birden fazla wheel dosyası var?\n",
    "\n",
    "Farklı işletim sistemleri ve Python sürümleri için farklı `.whl` dosyaları üretilir:\n",
    "\n",
    "* `cp313-cp313`: Python 3.13 sürümü için.\n",
    "* `macosx_10_13_x86_64` / `macosx_11_0_arm64`: İşletim sistemi ve mimariye göre.\n",
    "* Windows, Linux ve Mac için farklı varyantlar olur.\n",
    "\n",
    "---\n",
    "\n",
    "### SHA256 hash ne işe yarar?\n",
    "\n",
    "* `.whl` veya `.tar.gz` dosyasının **bütünlüğünü doğrulamak** için kullanılır.\n",
    "* İndirdiğin dosya bu hash'e sahipse dosya bozulmamış ve orijinaldir.\n",
    "* Güvenlik açısından önemlidir — dosyanın değiştirilmediğinden emin olunur.\n",
    "\n",
    "---\n",
    "\n",
    "Kısaca: `.whl` dosyaları paketi derlemeden hızlıca kurmak için kullanılır. Her sistem/sürüm için ayrı wheel olur. SHA256 ise dosyanın güvenliğini garanti eder.\n"
   ]
  },
  {
   "cell_type": "markdown",
   "id": "6513ee11-c61b-417d-8cba-683b58f82aef",
   "metadata": {},
   "source": [
    "* .lock dosyaları, projede kullanılan paketlerin sürüm bilgilerini sabitlemek için vardır.\n",
    "\n",
    "* Amaç, projeyi biri başka bir bilgisayarda çalıştırdığında aynı paket sürümleriyle, aynı ortamın yeniden oluşturulmasını sağlamaktır.\n",
    "Yani sadece \"aynı paketler\" değil, aynı sürümler de kurulsun diye."
   ]
  },
  {
   "cell_type": "markdown",
   "id": "bb045191-4783-45ad-883f-c1a31a6eed98",
   "metadata": {},
   "source": [
    "## Sonuç"
   ]
  },
  {
   "cell_type": "markdown",
   "id": "102cdeb4-b5a3-43d6-ae1f-ccb300dfc85c",
   "metadata": {},
   "source": [
    ".venv sanal ortamı içinde numpy ve pandas gibi kütüphaneler yüklendi; bağımlılıkları da otomatik kuruldu. Wheel dosyaları bu paketlerin hızlı kurulumu için önceden derlenmiş sürümleridir ve sistem/sürüm uyumuna göre farklılık gösterir. .lock dosyası ise proje başka bir ortamda çalıştırıldığında aynı sürümlerin kurulmasını garanti eder."
   ]
  },
  {
   "cell_type": "markdown",
   "id": "31eb35fe-6147-495f-83e2-c2e5ef43deea",
   "metadata": {},
   "source": [
    "Şimdi ortamımıza pytest kütüphanesi kuracağız fakat kullanıcı kişi için test gerekmediğinden dolayı şu şekilde dependency'yi ekliyoruz:\n",
    "\n",
    "**uv add pytest --group dev**"
   ]
  },
  {
   "cell_type": "markdown",
   "id": "3ab52a11-664f-4cf9-921c-e64a6ba36670",
   "metadata": {},
   "source": [
    "* ruff format, Python dosyalarını otomatik olarak PEP8 uyumlu ve temiz bir şekilde biçimlendiren bir kod formatlama aracıdır."
   ]
  },
  {
   "cell_type": "code",
   "execution_count": null,
   "id": "00c276bd-85bb-4c6d-a191-57cbd76c4ec0",
   "metadata": {},
   "outputs": [],
   "source": []
  }
 ],
 "metadata": {
  "kernelspec": {
   "display_name": "Python 3 (ipykernel)",
   "language": "python",
   "name": "python3"
  },
  "language_info": {
   "codemirror_mode": {
    "name": "ipython",
    "version": 3
   },
   "file_extension": ".py",
   "mimetype": "text/x-python",
   "name": "python",
   "nbconvert_exporter": "python",
   "pygments_lexer": "ipython3",
   "version": "3.13.5"
  }
 },
 "nbformat": 4,
 "nbformat_minor": 5
}
