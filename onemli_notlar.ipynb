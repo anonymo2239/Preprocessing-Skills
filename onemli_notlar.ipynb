{
 "cells": [
  {
   "cell_type": "markdown",
   "id": "f12d621e-6adc-4197-889b-c95c3bcb82d2",
   "metadata": {},
   "source": [
    "# Notes"
   ]
  },
  {
   "cell_type": "markdown",
   "id": "1aa64d76-90ab-43fb-9b68-8cd1cf651bdc",
   "metadata": {},
   "source": [
    "* Streamlit ile bir uygulamayı localde çalıştırmak, modelin deploy edildiği anlamına gelmez.\n",
    "Modelin gerçekten deploy edilmiş sayılması için, bir sunucuda 7/24 aktif şekilde çalışıyor olması ve bu sunucuya gelen istekleri (request) işleyip yanıt (response) verebilmesi gerekir."
   ]
  },
  {
   "cell_type": "markdown",
   "id": "c83c774d-0930-4c1e-b3b6-21dd86307662",
   "metadata": {},
   "source": [
    "* Normalde doğrudan main branch'e push atılmaz. Bunun için main branch'i readonly yapabileceğimiz bir ruleset tanımlayabiliriz."
   ]
  },
  {
   "cell_type": "markdown",
   "id": "0054928b-31c1-4616-9994-538e1fecf29c",
   "metadata": {},
   "source": [
    "* Projeyi açtıktan sonra öncelikle dependency management kurmamız gerekiyor."
   ]
  },
  {
   "cell_type": "markdown",
   "id": "7579b59f-5a41-4ea5-ba16-f8ae85645a52",
   "metadata": {},
   "source": []
  },
  {
   "cell_type": "markdown",
   "id": "21280912-90db-4891-b0f0-63a5320d8183",
   "metadata": {},
   "source": []
  }
 ],
 "metadata": {
  "kernelspec": {
   "display_name": "Python 3 (ipykernel)",
   "language": "python",
   "name": "python3"
  },
  "language_info": {
   "codemirror_mode": {
    "name": "ipython",
    "version": 3
   },
   "file_extension": ".py",
   "mimetype": "text/x-python",
   "name": "python",
   "nbconvert_exporter": "python",
   "pygments_lexer": "ipython3",
   "version": "3.13.5"
  }
 },
 "nbformat": 4,
 "nbformat_minor": 5
}
